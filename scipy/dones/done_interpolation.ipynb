{
 "cells": [
  {
   "cell_type": "code",
   "execution_count": 1,
   "metadata": {},
   "outputs": [],
   "source": [
    "import numpy as np\n",
    "from scipy.interpolate import interp1d\n",
    "from scipy.interpolate import UnivariateSpline\n",
    "from scipy.interpolate import Rbf"
   ]
  },
  {
   "cell_type": "code",
   "execution_count": 3,
   "metadata": {},
   "outputs": [],
   "source": [
    "xs = np.arange(10)\n",
    "ys = 2*xs + 1"
   ]
  },
  {
   "cell_type": "code",
   "execution_count": 4,
   "metadata": {},
   "outputs": [
    {
     "name": "stdout",
     "output_type": "stream",
     "text": [
      "[5.2 5.4 5.6 5.8 6.  6.2 6.4 6.6 6.8]\n"
     ]
    }
   ],
   "source": [
    "#1d interpolation\n",
    "interp_func = interp1d(xs, ys)\n",
    "newarr = interp_func(np.arange(2.1, 3, 0.1))\n",
    "print(newarr)"
   ]
  },
  {
   "cell_type": "code",
   "execution_count": 5,
   "metadata": {},
   "outputs": [
    {
     "name": "stdout",
     "output_type": "stream",
     "text": [
      "[5.2 5.4 5.6 5.8 6.  6.2 6.4 6.6 6.8]\n"
     ]
    }
   ],
   "source": [
    "#spline interpolation\n",
    "#ys = xs**2 + np.sin(xs) + 1\n",
    "interp_func = UnivariateSpline(xs, ys)\n",
    "newarr = interp_func(np.arange(2.1, 3, 0.1))\n",
    "print(newarr)"
   ]
  },
  {
   "cell_type": "code",
   "execution_count": 6,
   "metadata": {},
   "outputs": [
    {
     "name": "stdout",
     "output_type": "stream",
     "text": [
      "[5.19230156 5.38693145 5.58394432 5.78314562 5.98416725 6.18654187\n",
      " 6.38976679 6.59335582 6.79688027]\n"
     ]
    }
   ],
   "source": [
    "#Interpolation with Radial Basis Function\n",
    "#ys = xs**2 + np.sin(xs) + 1\n",
    "interp_func = Rbf(xs, ys)\n",
    "newarr = interp_func(np.arange(2.1, 3, 0.1))\n",
    "print(newarr)"
   ]
  }
 ],
 "metadata": {
  "kernelspec": {
   "display_name": "Python 3",
   "language": "python",
   "name": "python3"
  },
  "language_info": {
   "codemirror_mode": {
    "name": "ipython",
    "version": 3
   },
   "file_extension": ".py",
   "mimetype": "text/x-python",
   "name": "python",
   "nbconvert_exporter": "python",
   "pygments_lexer": "ipython3",
   "version": "3.11.9"
  }
 },
 "nbformat": 4,
 "nbformat_minor": 2
}
